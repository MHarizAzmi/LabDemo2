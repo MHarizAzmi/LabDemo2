{
  "nbformat": 4,
  "nbformat_minor": 0,
  "metadata": {
    "colab": {
      "name": "Convolutional Neural Network workshop exercise.ipynb",
      "provenance": [],
      "collapsed_sections": [],
      "authorship_tag": "ABX9TyOCc7VGt1BBGR949yJfhOvd",
      "include_colab_link": true
    },
    "kernelspec": {
      "name": "python3",
      "display_name": "Python 3"
    },
    "language_info": {
      "name": "python"
    }
  },
  "cells": [
    {
      "cell_type": "markdown",
      "metadata": {
        "id": "view-in-github",
        "colab_type": "text"
      },
      "source": [
        "<a href=\"https://colab.research.google.com/github/MHarizAzmi/LabDemo2/blob/master/Convolutional_Neural_Network_workshop_exercise.ipynb\" target=\"_parent\"><img src=\"https://colab.research.google.com/assets/colab-badge.svg\" alt=\"Open In Colab\"/></a>"
      ]
    },
    {
      "cell_type": "code",
      "execution_count": 1,
      "metadata": {
        "id": "EE0-dyPdH4FM"
      },
      "outputs": [],
      "source": [
        "from numpy.random import seed\n",
        "seed(888)\n",
        "\n",
        "#from tensorflow import set_random_seed\n",
        "#set_random_seed(4112)\n",
        "import tensorflow\n",
        "tensorflow.random.set_seed(112)"
      ]
    },
    {
      "cell_type": "code",
      "source": [
        "import os\n",
        "import numpy as np\n",
        "import itertools\n",
        "\n",
        "import tensorflow as tf\n",
        "import keras\n",
        "from keras.datasets import cifar10\n",
        "\n",
        "from keras.models import Sequential \n",
        "from keras.layers import Dense, Conv2D, MaxPool2D, Flatten\n",
        "\n",
        "from sklearn.metrics import confusion_matrix\n",
        "\n",
        "from IPython.display import display\n",
        "from keras.preprocessing.image import array_to_img\n",
        "\n",
        "from tensorflow.keras.utils import to_categorical\n",
        "\n",
        "import matplotlib.pyplot as plt\n",
        "%matplotlib inline"
      ],
      "metadata": {
        "id": "SebG-1F7ItbA"
      },
      "execution_count": 2,
      "outputs": []
    },
    {
      "cell_type": "code",
      "source": [
        "import pandas as pd"
      ],
      "metadata": {
        "id": "OltFf77MJcd6"
      },
      "execution_count": 3,
      "outputs": []
    },
    {
      "cell_type": "code",
      "source": [
        "(x_train_all, y_train_all), (x_test, y_test) = cifar10.load_data()"
      ],
      "metadata": {
        "colab": {
          "base_uri": "https://localhost:8080/"
        },
        "id": "jdYsTjqIJdkv",
        "outputId": "76186df4-bcef-4859-a9f6-831222709d19"
      },
      "execution_count": 4,
      "outputs": [
        {
          "output_type": "stream",
          "name": "stdout",
          "text": [
            "Downloading data from https://www.cs.toronto.edu/~kriz/cifar-10-python.tar.gz\n",
            "170500096/170498071 [==============================] - 2s 0us/step\n",
            "170508288/170498071 [==============================] - 2s 0us/step\n"
          ]
        }
      ]
    },
    {
      "cell_type": "code",
      "source": [
        "LABEL_NAMES = ['airplane', 'automobile', 'bird', 'cat', 'deer', 'dog', 'frog', 'horse', 'ship', 'truck']"
      ],
      "metadata": {
        "id": "4bctV8ekJ9Th"
      },
      "execution_count": 5,
      "outputs": []
    },
    {
      "cell_type": "code",
      "source": [
        "x_train_all.shape"
      ],
      "metadata": {
        "colab": {
          "base_uri": "https://localhost:8080/"
        },
        "id": "a3fC3FqGKUSn",
        "outputId": "647eaee9-c96e-42c5-841f-ca31f17875d5"
      },
      "execution_count": 6,
      "outputs": [
        {
          "output_type": "execute_result",
          "data": {
            "text/plain": [
              "(50000, 32, 32, 3)"
            ]
          },
          "metadata": {},
          "execution_count": 6
        }
      ]
    },
    {
      "cell_type": "code",
      "source": [
        "x_train_all[0]"
      ],
      "metadata": {
        "colab": {
          "base_uri": "https://localhost:8080/"
        },
        "id": "s7Zk2BCBKXWI",
        "outputId": "9ecac4fd-2a7d-4df7-e807-769b477e2715"
      },
      "execution_count": 7,
      "outputs": [
        {
          "output_type": "execute_result",
          "data": {
            "text/plain": [
              "array([[[ 59,  62,  63],\n",
              "        [ 43,  46,  45],\n",
              "        [ 50,  48,  43],\n",
              "        ...,\n",
              "        [158, 132, 108],\n",
              "        [152, 125, 102],\n",
              "        [148, 124, 103]],\n",
              "\n",
              "       [[ 16,  20,  20],\n",
              "        [  0,   0,   0],\n",
              "        [ 18,   8,   0],\n",
              "        ...,\n",
              "        [123,  88,  55],\n",
              "        [119,  83,  50],\n",
              "        [122,  87,  57]],\n",
              "\n",
              "       [[ 25,  24,  21],\n",
              "        [ 16,   7,   0],\n",
              "        [ 49,  27,   8],\n",
              "        ...,\n",
              "        [118,  84,  50],\n",
              "        [120,  84,  50],\n",
              "        [109,  73,  42]],\n",
              "\n",
              "       ...,\n",
              "\n",
              "       [[208, 170,  96],\n",
              "        [201, 153,  34],\n",
              "        [198, 161,  26],\n",
              "        ...,\n",
              "        [160, 133,  70],\n",
              "        [ 56,  31,   7],\n",
              "        [ 53,  34,  20]],\n",
              "\n",
              "       [[180, 139,  96],\n",
              "        [173, 123,  42],\n",
              "        [186, 144,  30],\n",
              "        ...,\n",
              "        [184, 148,  94],\n",
              "        [ 97,  62,  34],\n",
              "        [ 83,  53,  34]],\n",
              "\n",
              "       [[177, 144, 116],\n",
              "        [168, 129,  94],\n",
              "        [179, 142,  87],\n",
              "        ...,\n",
              "        [216, 184, 140],\n",
              "        [151, 118,  84],\n",
              "        [123,  92,  72]]], dtype=uint8)"
            ]
          },
          "metadata": {},
          "execution_count": 7
        }
      ]
    },
    {
      "cell_type": "code",
      "source": [
        "x_train_all[0].shape"
      ],
      "metadata": {
        "colab": {
          "base_uri": "https://localhost:8080/"
        },
        "id": "ibNkg-LyKbvI",
        "outputId": "d11082e5-da30-4bfe-e2dc-b2c05be3994d"
      },
      "execution_count": 8,
      "outputs": [
        {
          "output_type": "execute_result",
          "data": {
            "text/plain": [
              "(32, 32, 3)"
            ]
          },
          "metadata": {},
          "execution_count": 8
        }
      ]
    },
    {
      "cell_type": "code",
      "source": [
        "pic = array_to_img(x_train_all[0])\n",
        "display (pic)"
      ],
      "metadata": {
        "colab": {
          "base_uri": "https://localhost:8080/",
          "height": 49
        },
        "id": "3g5HTxVOKgKY",
        "outputId": "324842d8-8053-4c8b-e844-125ebe6a028b"
      },
      "execution_count": 9,
      "outputs": [
        {
          "output_type": "display_data",
          "data": {
            "image/png": "[encoded data removed]",
            "text/plain": [
              "<PIL.Image.Image image mode=RGB size=32x32 at 0x7FB66832E690>"
            ]
          },
          "metadata": {}
        }
      ]
    },
    {
      "cell_type": "code",
      "source": [
        "plt.imshow(x_train_all[0])"
      ],
      "metadata": {
        "colab": {
          "base_uri": "https://localhost:8080/",
          "height": 283
        },
        "id": "LojaYqrdKmBJ",
        "outputId": "b79278ec-7a12-43d3-9579-7f06d5ff165b"
      },
      "execution_count": 10,
      "outputs": [
        {
          "output_type": "execute_result",
          "data": {
            "text/plain": [
              "<matplotlib.image.AxesImage at 0x7fb667f2cb90>"
            ]
          },
          "metadata": {},
          "execution_count": 10
        },
        {
          "output_type": "display_data",
          "data": {
            "image/png": "[encoded data removed]",
            "text/plain": [
              "<Figure size 432x288 with 1 Axes>"
            ]
          },
          "metadata": {
            "needs_background": "light"
          }
        }
      ]
    },
    {
      "cell_type": "code",
      "source": [
        "y_train_all.shape"
      ],
      "metadata": {
        "colab": {
          "base_uri": "https://localhost:8080/"
        },
        "id": "lXnngKb7KpS1",
        "outputId": "f340ba57-68f9-4327-b49a-31dc12628183"
      },
      "execution_count": 11,
      "outputs": [
        {
          "output_type": "execute_result",
          "data": {
            "text/plain": [
              "(50000, 1)"
            ]
          },
          "metadata": {},
          "execution_count": 11
        }
      ]
    },
    {
      "cell_type": "code",
      "source": [
        "y_train_all[0][0]"
      ],
      "metadata": {
        "colab": {
          "base_uri": "https://localhost:8080/"
        },
        "id": "UTkxxlOWKtoW",
        "outputId": "48660cdb-dc99-41d5-e8f4-a65008b3e662"
      },
      "execution_count": 12,
      "outputs": [
        {
          "output_type": "execute_result",
          "data": {
            "text/plain": [
              "6"
            ]
          },
          "metadata": {},
          "execution_count": 12
        }
      ]
    },
    {
      "cell_type": "code",
      "source": [
        "LABEL_NAMES[y_train_all[0][0]]"
      ],
      "metadata": {
        "colab": {
          "base_uri": "https://localhost:8080/",
          "height": 35
        },
        "id": "tNtMqVOgKwBj",
        "outputId": "907f6226-75ca-4aaa-94b4-6e57cec17082"
      },
      "execution_count": 13,
      "outputs": [
        {
          "output_type": "execute_result",
          "data": {
            "application/vnd.google.colaboratory.intrinsic+json": {
              "type": "string"
            },
            "text/plain": [
              "'frog'"
            ]
          },
          "metadata": {},
          "execution_count": 13
        }
      ]
    },
    {
      "cell_type": "code",
      "source": [
        "x_train_all.shape"
      ],
      "metadata": {
        "colab": {
          "base_uri": "https://localhost:8080/"
        },
        "id": "YELpPlMuK5yf",
        "outputId": "41ee6bd5-afbe-47fb-a538-11c66ce95776"
      },
      "execution_count": 14,
      "outputs": [
        {
          "output_type": "execute_result",
          "data": {
            "text/plain": [
              "(50000, 32, 32, 3)"
            ]
          },
          "metadata": {},
          "execution_count": 14
        }
      ]
    },
    {
      "cell_type": "code",
      "source": [
        "number_of_images, x, y, c = x_train_all.shape\n",
        "print(f'The number of images = {number_of_images} \\t| width = {x} \\t| height = {y} \\t| channels = {c}')"
      ],
      "metadata": {
        "colab": {
          "base_uri": "https://localhost:8080/"
        },
        "id": "byvf603KLgzo",
        "outputId": "34cdb7a2-176a-46a5-c9b2-50afbb3f8161"
      },
      "execution_count": 15,
      "outputs": [
        {
          "output_type": "stream",
          "name": "stdout",
          "text": [
            "The number of images = 50000 \t| width = 32 \t| height = 32 \t| channels = 3\n"
          ]
        }
      ]
    },
    {
      "cell_type": "code",
      "source": [
        "x_test.shape"
      ],
      "metadata": {
        "colab": {
          "base_uri": "https://localhost:8080/"
        },
        "id": "o3qEZIONL2i0",
        "outputId": "63797dca-a19c-40d1-eef2-e51261686875"
      },
      "execution_count": 16,
      "outputs": [
        {
          "output_type": "execute_result",
          "data": {
            "text/plain": [
              "(10000, 32, 32, 3)"
            ]
          },
          "metadata": {},
          "execution_count": 16
        }
      ]
    },
    {
      "cell_type": "code",
      "source": [
        "x_train_all = x_train_all / 255.0"
      ],
      "metadata": {
        "id": "KbA7XFifL9EH"
      },
      "execution_count": 17,
      "outputs": []
    },
    {
      "cell_type": "code",
      "source": [
        "x_test = x_test / 255.0"
      ],
      "metadata": {
        "id": "32GE0LFDMC55"
      },
      "execution_count": 18,
      "outputs": []
    },
    {
      "cell_type": "code",
      "source": [
        "y_test"
      ],
      "metadata": {
        "colab": {
          "base_uri": "https://localhost:8080/"
        },
        "id": "gjGPCeu2MGUB",
        "outputId": "5ee8e423-4869-4efc-b2a2-86103eac2983"
      },
      "execution_count": 19,
      "outputs": [
        {
          "output_type": "execute_result",
          "data": {
            "text/plain": [
              "array([[3],\n",
              "       [8],\n",
              "       [8],\n",
              "       ...,\n",
              "       [5],\n",
              "       [1],\n",
              "       [7]], dtype=uint8)"
            ]
          },
          "metadata": {},
          "execution_count": 19
        }
      ]
    },
    {
      "cell_type": "code",
      "source": [
        "y_cat_train_all = to_categorical(y_train_all, 10)"
      ],
      "metadata": {
        "id": "qpRgO4I-MHup"
      },
      "execution_count": 20,
      "outputs": []
    },
    {
      "cell_type": "code",
      "source": [
        "y_cat_test = to_categorical(y_test, 10)"
      ],
      "metadata": {
        "id": "WeyexBacMNtk"
      },
      "execution_count": 21,
      "outputs": []
    },
    {
      "cell_type": "code",
      "source": [
        "y_cat_train_all"
      ],
      "metadata": {
        "colab": {
          "base_uri": "https://localhost:8080/"
        },
        "id": "EomjX3kZMQ7y",
        "outputId": "69eef0c4-e175-4c84-a2b9-d31ba882c44e"
      },
      "execution_count": 22,
      "outputs": [
        {
          "output_type": "execute_result",
          "data": {
            "text/plain": [
              "array([[0., 0., 0., ..., 0., 0., 0.],\n",
              "       [0., 0., 0., ..., 0., 0., 1.],\n",
              "       [0., 0., 0., ..., 0., 0., 1.],\n",
              "       ...,\n",
              "       [0., 0., 0., ..., 0., 0., 1.],\n",
              "       [0., 1., 0., ..., 0., 0., 0.],\n",
              "       [0., 1., 0., ..., 0., 0., 0.]], dtype=float32)"
            ]
          },
          "metadata": {},
          "execution_count": 22
        }
      ]
    },
    {
      "cell_type": "code",
      "source": [
        "VALIDATION_SIZE = 10000"
      ],
      "metadata": {
        "id": "N_GZEJGqMUht"
      },
      "execution_count": 23,
      "outputs": []
    },
    {
      "cell_type": "code",
      "source": [
        "x_val = x_train_all[:VALIDATION_SIZE]\n",
        "y_val_cat = y_cat_train_all[:VALIDATION_SIZE]\n",
        "x_val.shape"
      ],
      "metadata": {
        "colab": {
          "base_uri": "https://localhost:8080/"
        },
        "id": "sTVxYaxfMq9k",
        "outputId": "2a155876-28d8-456c-e951-1d6040dd9cf5"
      },
      "execution_count": 25,
      "outputs": [
        {
          "output_type": "execute_result",
          "data": {
            "text/plain": [
              "(10000, 32, 32, 3)"
            ]
          },
          "metadata": {},
          "execution_count": 25
        }
      ]
    },
    {
      "cell_type": "code",
      "source": [
        "y_val_cat"
      ],
      "metadata": {
        "colab": {
          "base_uri": "https://localhost:8080/"
        },
        "id": "OM9_17QHM0xB",
        "outputId": "ca8587d0-45f2-499c-a375-ec8373b60c37"
      },
      "execution_count": 26,
      "outputs": [
        {
          "output_type": "execute_result",
          "data": {
            "text/plain": [
              "array([[0., 0., 0., ..., 0., 0., 0.],\n",
              "       [0., 0., 0., ..., 0., 0., 1.],\n",
              "       [0., 0., 0., ..., 0., 0., 1.],\n",
              "       ...,\n",
              "       [0., 1., 0., ..., 0., 0., 0.],\n",
              "       [0., 1., 0., ..., 0., 0., 0.],\n",
              "       [0., 0., 0., ..., 0., 0., 0.]], dtype=float32)"
            ]
          },
          "metadata": {},
          "execution_count": 26
        }
      ]
    },
    {
      "cell_type": "code",
      "source": [
        "x_train = x_train_all[:VALIDATION_SIZE]\n",
        "y_cat_train = y_cat_train_all[:VALIDATION_SIZE]"
      ],
      "metadata": {
        "id": "D-mS2uf4M7JE"
      },
      "execution_count": 27,
      "outputs": []
    },
    {
      "cell_type": "code",
      "source": [
        "x_train.shape"
      ],
      "metadata": {
        "colab": {
          "base_uri": "https://localhost:8080/"
        },
        "id": "fhZTkzDbNKwN",
        "outputId": "fdc40486-4639-419b-a0d2-4ffe825817a2"
      },
      "execution_count": 28,
      "outputs": [
        {
          "output_type": "execute_result",
          "data": {
            "text/plain": [
              "(10000, 32, 32, 3)"
            ]
          },
          "metadata": {},
          "execution_count": 28
        }
      ]
    },
    {
      "cell_type": "code",
      "source": [
        "y_cat_train"
      ],
      "metadata": {
        "colab": {
          "base_uri": "https://localhost:8080/"
        },
        "id": "RbHoeWUlNM4I",
        "outputId": "cba483bd-10dc-404f-87af-857d65b1d8ba"
      },
      "execution_count": 29,
      "outputs": [
        {
          "output_type": "execute_result",
          "data": {
            "text/plain": [
              "array([[0., 0., 0., ..., 0., 0., 0.],\n",
              "       [0., 0., 0., ..., 0., 0., 1.],\n",
              "       [0., 0., 0., ..., 0., 0., 1.],\n",
              "       ...,\n",
              "       [0., 1., 0., ..., 0., 0., 0.],\n",
              "       [0., 1., 0., ..., 0., 0., 0.],\n",
              "       [0., 0., 0., ..., 0., 0., 0.]], dtype=float32)"
            ]
          },
          "metadata": {},
          "execution_count": 29
        }
      ]
    },
    {
      "cell_type": "code",
      "source": [
        "model = Sequential()\n",
        "\n",
        "## ************* FIRST SET OF LAYERS *************************\n",
        "\n",
        "# CONVOLUTIONAL LAYER\n",
        "model.add(Conv2D(filters=32, kernel_size=(4,4),input_shape=(32, 32, 3), activation='relu',))\n",
        "# POOLING LAYER\n",
        "model.add(MaxPool2D(pool_size=(2, 2)))\n",
        "\n",
        "## *************** SECOND SET OF LAYERS ***********************\n",
        "#Since the shape of the data is 32 x 32 x 3 =3072 ... \n",
        "#We need to deal with this more complex structure by adding yet another convolutional layer\n",
        "\n",
        "# *************CONVOLUTIONAL LAYER\n",
        "model.add(Conv2D(filters=32, kernel_size=(4,4),input_shape=(32, 32, 3), activation='relu',))\n",
        "# POOLING LAYER\n",
        "model.add(MaxPool2D(pool_size=(2, 2)))\n",
        "\n",
        "# FLATTEN IMAGES FROM 32 x 32 x 3 =3072 BEFORE FINAL LAYER\n",
        "model.add(Flatten())\n",
        "\n",
        "# 256 NEURONS IN DENSE HIDDEN LAYER (YOU CAN CHANGE THIS NUMBER OF NEURONS)\n",
        "model.add(Dense(256, activation='relu'))\n",
        "\n",
        "# LAST LAYER IS THE CLASSIFIER, THUS 10 POSSIBLE CLASSES\n",
        "model.add(Dense(10, activation='softmax'))\n",
        "\n",
        "\n",
        "model.compile(loss='categorical_crossentropy',\n",
        "              optimizer='adam',\n",
        "              metrics=['accuracy'])"
      ],
      "metadata": {
        "id": "2Fio8d9HNOtP"
      },
      "execution_count": 30,
      "outputs": []
    },
    {
      "cell_type": "code",
      "source": [
        "model.summary()"
      ],
      "metadata": {
        "colab": {
          "base_uri": "https://localhost:8080/"
        },
        "id": "lQRiouCdNoga",
        "outputId": "31d99360-980b-4d63-bcc2-e5a0a569c5fd"
      },
      "execution_count": 31,
      "outputs": [
        {
          "output_type": "stream",
          "name": "stdout",
          "text": [
            "Model: \"sequential\"\n",
            "_________________________________________________________________\n",
            " Layer (type)                Output Shape              Param #   \n",
            "=================================================================\n",
            " conv2d (Conv2D)             (None, 29, 29, 32)        1568      \n",
            "                                                                 \n",
            " max_pooling2d (MaxPooling2D  (None, 14, 14, 32)       0         \n",
            " )                                                               \n",
            "                                                                 \n",
            " conv2d_1 (Conv2D)           (None, 11, 11, 32)        16416     \n",
            "                                                                 \n",
            " max_pooling2d_1 (MaxPooling  (None, 5, 5, 32)         0         \n",
            " 2D)                                                             \n",
            "                                                                 \n",
            " flatten (Flatten)           (None, 800)               0         \n",
            "                                                                 \n",
            " dense (Dense)               (None, 256)               205056    \n",
            "                                                                 \n",
            " dense_1 (Dense)             (None, 10)                2570      \n",
            "                                                                 \n",
            "=================================================================\n",
            "Total params: 225,610\n",
            "Trainable params: 225,610\n",
            "Non-trainable params: 0\n",
            "_________________________________________________________________\n"
          ]
        }
      ]
    },
    {
      "cell_type": "code",
      "source": [
        "from tensorflow.keras.callbacks import EarlyStopping"
      ],
      "metadata": {
        "id": "3UW9kU9YNqIF"
      },
      "execution_count": 32,
      "outputs": []
    },
    {
      "cell_type": "code",
      "source": [
        "early_stop = EarlyStopping(monitor='val_loss', patience = 2)"
      ],
      "metadata": {
        "id": "qFJHhdN5Nzh-"
      },
      "execution_count": 33,
      "outputs": []
    },
    {
      "cell_type": "code",
      "source": [
        "history = model.fit(x_train, y_cat_train, epochs = 25, validation_data=(x_val, y_val_cat), callbacks=[early_stop])"
      ],
      "metadata": {
        "colab": {
          "base_uri": "https://localhost:8080/"
        },
        "id": "6qMi9luSN5ZP",
        "outputId": "a864faf7-d32a-4d04-d761-0ca45b5c25bd"
      },
      "execution_count": 34,
      "outputs": [
        {
          "output_type": "stream",
          "name": "stdout",
          "text": [
            "Epoch 1/25\n",
            "313/313 [==============================] - 17s 51ms/step - loss: 1.8234 - accuracy: 0.3273 - val_loss: 1.5457 - val_accuracy: 0.4315\n",
            "Epoch 2/25\n",
            "313/313 [==============================] - 16s 50ms/step - loss: 1.4942 - accuracy: 0.4588 - val_loss: 1.3881 - val_accuracy: 0.4928\n",
            "Epoch 3/25\n",
            "313/313 [==============================] - 16s 50ms/step - loss: 1.3507 - accuracy: 0.5177 - val_loss: 1.2939 - val_accuracy: 0.5321\n",
            "Epoch 4/25\n",
            "313/313 [==============================] - 16s 52ms/step - loss: 1.2257 - accuracy: 0.5656 - val_loss: 1.1369 - val_accuracy: 0.6000\n",
            "Epoch 5/25\n",
            "313/313 [==============================] - 17s 55ms/step - loss: 1.1297 - accuracy: 0.6040 - val_loss: 0.9892 - val_accuracy: 0.6538\n",
            "Epoch 6/25\n",
            "313/313 [==============================] - 16s 50ms/step - loss: 1.0322 - accuracy: 0.6333 - val_loss: 0.9131 - val_accuracy: 0.6885\n",
            "Epoch 7/25\n",
            "313/313 [==============================] - 16s 51ms/step - loss: 0.9422 - accuracy: 0.6675 - val_loss: 0.7965 - val_accuracy: 0.7353\n",
            "Epoch 8/25\n",
            "313/313 [==============================] - 16s 50ms/step - loss: 0.8584 - accuracy: 0.6988 - val_loss: 0.7641 - val_accuracy: 0.7343\n",
            "Epoch 9/25\n",
            "313/313 [==============================] - 16s 51ms/step - loss: 0.7588 - accuracy: 0.7365 - val_loss: 0.6231 - val_accuracy: 0.7900\n",
            "Epoch 10/25\n",
            "313/313 [==============================] - 19s 60ms/step - loss: 0.6591 - accuracy: 0.7721 - val_loss: 0.5583 - val_accuracy: 0.8170\n",
            "Epoch 11/25\n",
            "313/313 [==============================] - 16s 50ms/step - loss: 0.5764 - accuracy: 0.7977 - val_loss: 0.4545 - val_accuracy: 0.8555\n",
            "Epoch 12/25\n",
            "313/313 [==============================] - 16s 50ms/step - loss: 0.4824 - accuracy: 0.8376 - val_loss: 0.3792 - val_accuracy: 0.8792\n",
            "Epoch 13/25\n",
            "313/313 [==============================] - 16s 50ms/step - loss: 0.3966 - accuracy: 0.8671 - val_loss: 0.3325 - val_accuracy: 0.8956\n",
            "Epoch 14/25\n",
            "313/313 [==============================] - 16s 50ms/step - loss: 0.3197 - accuracy: 0.8976 - val_loss: 0.2253 - val_accuracy: 0.9364\n",
            "Epoch 15/25\n",
            "313/313 [==============================] - 16s 51ms/step - loss: 0.2538 - accuracy: 0.9183 - val_loss: 0.2309 - val_accuracy: 0.9230\n",
            "Epoch 16/25\n",
            "313/313 [==============================] - 16s 50ms/step - loss: 0.2134 - accuracy: 0.9292 - val_loss: 0.1341 - val_accuracy: 0.9676\n",
            "Epoch 17/25\n",
            "313/313 [==============================] - 16s 50ms/step - loss: 0.1512 - accuracy: 0.9557 - val_loss: 0.1057 - val_accuracy: 0.9754\n",
            "Epoch 18/25\n",
            "313/313 [==============================] - 16s 51ms/step - loss: 0.1313 - accuracy: 0.9616 - val_loss: 0.0840 - val_accuracy: 0.9812\n",
            "Epoch 19/25\n",
            "313/313 [==============================] - 16s 50ms/step - loss: 0.0971 - accuracy: 0.9734 - val_loss: 0.0562 - val_accuracy: 0.9891\n",
            "Epoch 20/25\n",
            "313/313 [==============================] - 16s 51ms/step - loss: 0.1279 - accuracy: 0.9587 - val_loss: 0.0906 - val_accuracy: 0.9761\n",
            "Epoch 21/25\n",
            "313/313 [==============================] - 16s 51ms/step - loss: 0.0881 - accuracy: 0.9740 - val_loss: 0.0497 - val_accuracy: 0.9884\n",
            "Epoch 22/25\n",
            "313/313 [==============================] - 16s 51ms/step - loss: 0.0585 - accuracy: 0.9840 - val_loss: 0.0375 - val_accuracy: 0.9919\n",
            "Epoch 23/25\n",
            "313/313 [==============================] - 16s 51ms/step - loss: 0.0696 - accuracy: 0.9792 - val_loss: 0.0738 - val_accuracy: 0.9784\n",
            "Epoch 24/25\n",
            "313/313 [==============================] - 16s 51ms/step - loss: 0.0994 - accuracy: 0.9661 - val_loss: 0.0600 - val_accuracy: 0.9832\n"
          ]
        }
      ]
    },
    {
      "cell_type": "code",
      "source": [
        "model.history.history.keys()"
      ],
      "metadata": {
        "colab": {
          "base_uri": "https://localhost:8080/"
        },
        "id": "VCIh3v-VOMC6",
        "outputId": "022e0f9a-b9c0-411b-e882-73fe843d8a5a"
      },
      "execution_count": 35,
      "outputs": [
        {
          "output_type": "execute_result",
          "data": {
            "text/plain": [
              "dict_keys(['loss', 'accuracy', 'val_loss', 'val_accuracy'])"
            ]
          },
          "metadata": {},
          "execution_count": 35
        }
      ]
    },
    {
      "cell_type": "code",
      "source": [
        "metrics = pd.DataFrame(model.history.history)"
      ],
      "metadata": {
        "id": "JrkoWHUsRBjr"
      },
      "execution_count": 36,
      "outputs": []
    },
    {
      "cell_type": "code",
      "source": [
        "metrics"
      ],
      "metadata": {
        "colab": {
          "base_uri": "https://localhost:8080/",
          "height": 802
        },
        "id": "pvaePYRMRGfT",
        "outputId": "cf79bbee-64d8-4542-c3b5-d7d5ac40d80c"
      },
      "execution_count": 37,
      "outputs": [
        {
          "output_type": "execute_result",
          "data": {
            "text/html": [
              "\n",
              "  <div id=\"df-15cb753f-25f1-48a0-a1d8-8d7a120a6e26\">\n",
              "    <div class=\"colab-df-container\">\n",
              "      <div>\n",
              "<style scoped>\n",
              "    .dataframe tbody tr th:only-of-type {\n",
              "        vertical-align: middle;\n",
              "    }\n",
              "\n",
              "    .dataframe tbody tr th {\n",
              "        vertical-align: top;\n",
              "    }\n",
              "\n",
              "    .dataframe thead th {\n",
              "        text-align: right;\n",
              "    }\n",
              "</style>\n",
              "<table border=\"1\" class=\"dataframe\">\n",
              "  <thead>\n",
              "    <tr style=\"text-align: right;\">\n",
              "      <th></th>\n",
              "      <th>loss</th>\n",
              "      <th>accuracy</th>\n",
              "      <th>val_loss</th>\n",
              "      <th>val_accuracy</th>\n",
              "    </tr>\n",
              "  </thead>\n",
              "  <tbody>\n",
              "    <tr>\n",
              "      <th>0</th>\n",
              "      <td>1.823385</td>\n",
              "      <td>0.3273</td>\n",
              "      <td>1.545665</td>\n",
              "      <td>0.4315</td>\n",
              "    </tr>\n",
              "    <tr>\n",
              "      <th>1</th>\n",
              "      <td>1.494211</td>\n",
              "      <td>0.4588</td>\n",
              "      <td>1.388054</td>\n",
              "      <td>0.4928</td>\n",
              "    </tr>\n",
              "    <tr>\n",
              "      <th>2</th>\n",
              "      <td>1.350727</td>\n",
              "      <td>0.5177</td>\n",
              "      <td>1.293876</td>\n",
              "      <td>0.5321</td>\n",
              "    </tr>\n",
              "    <tr>\n",
              "      <th>3</th>\n",
              "      <td>1.225659</td>\n",
              "      <td>0.5656</td>\n",
              "      <td>1.136921</td>\n",
              "      <td>0.6000</td>\n",
              "    </tr>\n",
              "    <tr>\n",
              "      <th>4</th>\n",
              "      <td>1.129716</td>\n",
              "      <td>0.6040</td>\n",
              "      <td>0.989171</td>\n",
              "      <td>0.6538</td>\n",
              "    </tr>\n",
              "    <tr>\n",
              "      <th>5</th>\n",
              "      <td>1.032236</td>\n",
              "      <td>0.6333</td>\n",
              "      <td>0.913080</td>\n",
              "      <td>0.6885</td>\n",
              "    </tr>\n",
              "    <tr>\n",
              "      <th>6</th>\n",
              "      <td>0.942182</td>\n",
              "      <td>0.6675</td>\n",
              "      <td>0.796536</td>\n",
              "      <td>0.7353</td>\n",
              "    </tr>\n",
              "    <tr>\n",
              "      <th>7</th>\n",
              "      <td>0.858438</td>\n",
              "      <td>0.6988</td>\n",
              "      <td>0.764095</td>\n",
              "      <td>0.7343</td>\n",
              "    </tr>\n",
              "    <tr>\n",
              "      <th>8</th>\n",
              "      <td>0.758825</td>\n",
              "      <td>0.7365</td>\n",
              "      <td>0.623051</td>\n",
              "      <td>0.7900</td>\n",
              "    </tr>\n",
              "    <tr>\n",
              "      <th>9</th>\n",
              "      <td>0.659092</td>\n",
              "      <td>0.7721</td>\n",
              "      <td>0.558284</td>\n",
              "      <td>0.8170</td>\n",
              "    </tr>\n",
              "    <tr>\n",
              "      <th>10</th>\n",
              "      <td>0.576442</td>\n",
              "      <td>0.7977</td>\n",
              "      <td>0.454526</td>\n",
              "      <td>0.8555</td>\n",
              "    </tr>\n",
              "    <tr>\n",
              "      <th>11</th>\n",
              "      <td>0.482365</td>\n",
              "      <td>0.8376</td>\n",
              "      <td>0.379209</td>\n",
              "      <td>0.8792</td>\n",
              "    </tr>\n",
              "    <tr>\n",
              "      <th>12</th>\n",
              "      <td>0.396645</td>\n",
              "      <td>0.8671</td>\n",
              "      <td>0.332519</td>\n",
              "      <td>0.8956</td>\n",
              "    </tr>\n",
              "    <tr>\n",
              "      <th>13</th>\n",
              "      <td>0.319742</td>\n",
              "      <td>0.8976</td>\n",
              "      <td>0.225301</td>\n",
              "      <td>0.9364</td>\n",
              "    </tr>\n",
              "    <tr>\n",
              "      <th>14</th>\n",
              "      <td>0.253806</td>\n",
              "      <td>0.9183</td>\n",
              "      <td>0.230860</td>\n",
              "      <td>0.9230</td>\n",
              "    </tr>\n",
              "    <tr>\n",
              "      <th>15</th>\n",
              "      <td>0.213407</td>\n",
              "      <td>0.9292</td>\n",
              "      <td>0.134068</td>\n",
              "      <td>0.9676</td>\n",
              "    </tr>\n",
              "    <tr>\n",
              "      <th>16</th>\n",
              "      <td>0.151173</td>\n",
              "      <td>0.9557</td>\n",
              "      <td>0.105737</td>\n",
              "      <td>0.9754</td>\n",
              "    </tr>\n",
              "    <tr>\n",
              "      <th>17</th>\n",
              "      <td>0.131340</td>\n",
              "      <td>0.9616</td>\n",
              "      <td>0.084024</td>\n",
              "      <td>0.9812</td>\n",
              "    </tr>\n",
              "    <tr>\n",
              "      <th>18</th>\n",
              "      <td>0.097083</td>\n",
              "      <td>0.9734</td>\n",
              "      <td>0.056212</td>\n",
              "      <td>0.9891</td>\n",
              "    </tr>\n",
              "    <tr>\n",
              "      <th>19</th>\n",
              "      <td>0.127882</td>\n",
              "      <td>0.9587</td>\n",
              "      <td>0.090569</td>\n",
              "      <td>0.9761</td>\n",
              "    </tr>\n",
              "    <tr>\n",
              "      <th>20</th>\n",
              "      <td>0.088104</td>\n",
              "      <td>0.9740</td>\n",
              "      <td>0.049713</td>\n",
              "      <td>0.9884</td>\n",
              "    </tr>\n",
              "    <tr>\n",
              "      <th>21</th>\n",
              "      <td>0.058516</td>\n",
              "      <td>0.9840</td>\n",
              "      <td>0.037496</td>\n",
              "      <td>0.9919</td>\n",
              "    </tr>\n",
              "    <tr>\n",
              "      <th>22</th>\n",
              "      <td>0.069563</td>\n",
              "      <td>0.9792</td>\n",
              "      <td>0.073849</td>\n",
              "      <td>0.9784</td>\n",
              "    </tr>\n",
              "    <tr>\n",
              "      <th>23</th>\n",
              "      <td>0.099371</td>\n",
              "      <td>0.9661</td>\n",
              "      <td>0.060023</td>\n",
              "      <td>0.9832</td>\n",
              "    </tr>\n",
              "  </tbody>\n",
              "</table>\n",
              "</div>\n",
              "      <button class=\"colab-df-convert\" onclick=\"convertToInteractive('df-15cb753f-25f1-48a0-a1d8-8d7a120a6e26')\"\n",
              "              title=\"Convert this dataframe to an interactive table.\"\n",
              "              style=\"display:none;\">\n",
              "        \n",
              "  <svg xmlns=\"http://www.w3.org/2000/svg\" height=\"24px\"viewBox=\"0 0 24 24\"\n",
              "       width=\"24px\">\n",
              "    <path d=\"M0 0h24v24H0V0z\" fill=\"none\"/>\n",
              "    <path d=\"M18.56 5.44l.94 2.06.94-2.06 2.06-.94-2.06-.94-.94-2.06-.94 2.06-2.06.94zm-11 1L8.5 8.5l.94-2.06 2.06-.94-2.06-.94L8.5 2.5l-.94 2.06-2.06.94zm10 10l.94 2.06.94-2.06 2.06-.94-2.06-.94-.94-2.06-.94 2.06-2.06.94z\"/><path d=\"M17.41 7.96l-1.37-1.37c-.4-.4-.92-.59-1.43-.59-.52 0-1.04.2-1.43.59L10.3 9.45l-7.72 7.72c-.78.78-.78 2.05 0 2.83L4 21.41c.39.39.9.59 1.41.59.51 0 1.02-.2 1.41-.59l7.78-7.78 2.81-2.81c.8-.78.8-2.07 0-2.86zM5.41 20L4 18.59l7.72-7.72 1.47 1.35L5.41 20z\"/>\n",
              "  </svg>\n",
              "      </button>\n",
              "      \n",
              "  <style>\n",
              "    .colab-df-container {\n",
              "      display:flex;\n",
              "      flex-wrap:wrap;\n",
              "      gap: 12px;\n",
              "    }\n",
              "\n",
              "    .colab-df-convert {\n",
              "      background-color: #E8F0FE;\n",
              "      border: none;\n",
              "      border-radius: 50%;\n",
              "      cursor: pointer;\n",
              "      display: none;\n",
              "      fill: #1967D2;\n",
              "      height: 32px;\n",
              "      padding: 0 0 0 0;\n",
              "      width: 32px;\n",
              "    }\n",
              "\n",
              "    .colab-df-convert:hover {\n",
              "      background-color: #E2EBFA;\n",
              "      box-shadow: 0px 1px 2px rgba(60, 64, 67, 0.3), 0px 1px 3px 1px rgba(60, 64, 67, 0.15);\n",
              "      fill: #174EA6;\n",
              "    }\n",
              "\n",
              "    [theme=dark] .colab-df-convert {\n",
              "      background-color: #3B4455;\n",
              "      fill: #D2E3FC;\n",
              "    }\n",
              "\n",
              "    [theme=dark] .colab-df-convert:hover {\n",
              "      background-color: #434B5C;\n",
              "      box-shadow: 0px 1px 3px 1px rgba(0, 0, 0, 0.15);\n",
              "      filter: drop-shadow(0px 1px 2px rgba(0, 0, 0, 0.3));\n",
              "      fill: #FFFFFF;\n",
              "    }\n",
              "  </style>\n",
              "\n",
              "      <script>\n",
              "        const buttonEl =\n",
              "          document.querySelector('#df-15cb753f-25f1-48a0-a1d8-8d7a120a6e26 button.colab-df-convert');\n",
              "        buttonEl.style.display =\n",
              "          google.colab.kernel.accessAllowed ? 'block' : 'none';\n",
              "\n",
              "        async function convertToInteractive(key) {\n",
              "          const element = document.querySelector('#df-15cb753f-25f1-48a0-a1d8-8d7a120a6e26');\n",
              "          const dataTable =\n",
              "            await google.colab.kernel.invokeFunction('convertToInteractive',\n",
              "                                                     [key], {});\n",
              "          if (!dataTable) return;\n",
              "\n",
              "          const docLinkHtml = 'Like what you see? Visit the ' +\n",
              "            '<a target=\"_blank\" href=https://colab.research.google.com/notebooks/data_table.ipynb>data table notebook</a>'\n",
              "            + ' to learn more about interactive tables.';\n",
              "          element.innerHTML = '';\n",
              "          dataTable['output_type'] = 'display_data';\n",
              "          await google.colab.output.renderOutput(dataTable, element);\n",
              "          const docLink = document.createElement('div');\n",
              "          docLink.innerHTML = docLinkHtml;\n",
              "          element.appendChild(docLink);\n",
              "        }\n",
              "      </script>\n",
              "    </div>\n",
              "  </div>\n",
              "  "
            ],
            "text/plain": [
              "        loss  accuracy  val_loss  val_accuracy\n",
              "0   1.823385    0.3273  1.545665        0.4315\n",
              "1   1.494211    0.4588  1.388054        0.4928\n",
              "2   1.350727    0.5177  1.293876        0.5321\n",
              "3   1.225659    0.5656  1.136921        0.6000\n",
              "4   1.129716    0.6040  0.989171        0.6538\n",
              "5   1.032236    0.6333  0.913080        0.6885\n",
              "6   0.942182    0.6675  0.796536        0.7353\n",
              "7   0.858438    0.6988  0.764095        0.7343\n",
              "8   0.758825    0.7365  0.623051        0.7900\n",
              "9   0.659092    0.7721  0.558284        0.8170\n",
              "10  0.576442    0.7977  0.454526        0.8555\n",
              "11  0.482365    0.8376  0.379209        0.8792\n",
              "12  0.396645    0.8671  0.332519        0.8956\n",
              "13  0.319742    0.8976  0.225301        0.9364\n",
              "14  0.253806    0.9183  0.230860        0.9230\n",
              "15  0.213407    0.9292  0.134068        0.9676\n",
              "16  0.151173    0.9557  0.105737        0.9754\n",
              "17  0.131340    0.9616  0.084024        0.9812\n",
              "18  0.097083    0.9734  0.056212        0.9891\n",
              "19  0.127882    0.9587  0.090569        0.9761\n",
              "20  0.088104    0.9740  0.049713        0.9884\n",
              "21  0.058516    0.9840  0.037496        0.9919\n",
              "22  0.069563    0.9792  0.073849        0.9784\n",
              "23  0.099371    0.9661  0.060023        0.9832"
            ]
          },
          "metadata": {},
          "execution_count": 37
        }
      ]
    },
    {
      "cell_type": "code",
      "source": [
        "metrics[['loss', 'val_loss']].plot()\n",
        "plt.title('Training Loss vs Validation Loss', fontsize=16)\n",
        "plt.show()"
      ],
      "metadata": {
        "colab": {
          "base_uri": "https://localhost:8080/",
          "height": 283
        },
        "id": "wyouLuGSRHS-",
        "outputId": "290dbee8-f7ec-4ac0-8318-9002f0748e4f"
      },
      "execution_count": 40,
      "outputs": [
        {
          "output_type": "display_data",
          "data": {
            "image/png": "[encoded data removed]",
            "text/plain": [
              "<Figure size 432x288 with 1 Axes>"
            ]
          },
          "metadata": {
            "needs_background": "light"
          }
        }
      ]
    },
    {
      "cell_type": "code",
      "source": [
        "metrics[['accuracy', 'val_accuracy']].plot()\n",
        "plt.title('Training Accuracy vs Validation Accuracy', fontsize = 16)\n",
        "plt.show()"
      ],
      "metadata": {
        "colab": {
          "base_uri": "https://localhost:8080/",
          "height": 283
        },
        "id": "8AtlOy4rRPmo",
        "outputId": "b697d1df-babc-411c-cfca-068e06f5cf28"
      },
      "execution_count": 41,
      "outputs": [
        {
          "output_type": "display_data",
          "data": {
            "image/png": "[encoded data removed]",
            "text/plain": [
              "<Figure size 432x288 with 1 Axes>"
            ]
          },
          "metadata": {
            "needs_background": "light"
          }
        }
      ]
    },
    {
      "cell_type": "code",
      "source": [
        "model.evaluate(x_test, y_cat_test)"
      ],
      "metadata": {
        "colab": {
          "base_uri": "https://localhost:8080/"
        },
        "id": "gbilD6TJR0Rv",
        "outputId": "7dfea569-cdd1-4512-fe70-97dc992cc80a"
      },
      "execution_count": 42,
      "outputs": [
        {
          "output_type": "stream",
          "name": "stdout",
          "text": [
            "313/313 [==============================] - 4s 14ms/step - loss: 2.9629 - accuracy: 0.5507\n"
          ]
        },
        {
          "output_type": "execute_result",
          "data": {
            "text/plain": [
              "[2.9628541469573975, 0.5507000088691711]"
            ]
          },
          "metadata": {},
          "execution_count": 42
        }
      ]
    },
    {
      "cell_type": "code",
      "source": [
        "from sklearn.metrics import classification_report, confusion_matrix"
      ],
      "metadata": {
        "id": "J-QodtviR8Oe"
      },
      "execution_count": 43,
      "outputs": []
    },
    {
      "cell_type": "code",
      "source": [
        "predictions = np.argmax(model.predict(x_test), axis = -1)"
      ],
      "metadata": {
        "id": "eq_FI-wsSGva"
      },
      "execution_count": 44,
      "outputs": []
    },
    {
      "cell_type": "code",
      "source": [
        "print(classification_report(y_test, predictions))"
      ],
      "metadata": {
        "colab": {
          "base_uri": "https://localhost:8080/"
        },
        "id": "owIhFKnGSMik",
        "outputId": "cddec1d2-cd07-4f1a-ba79-6fa8adfe7553"
      },
      "execution_count": 45,
      "outputs": [
        {
          "output_type": "stream",
          "name": "stdout",
          "text": [
            "              precision    recall  f1-score   support\n",
            "\n",
            "           0       0.62      0.59      0.61      1000\n",
            "           1       0.62      0.72      0.67      1000\n",
            "           2       0.47      0.38      0.42      1000\n",
            "           3       0.36      0.35      0.35      1000\n",
            "           4       0.49      0.48      0.48      1000\n",
            "           5       0.42      0.49      0.46      1000\n",
            "           6       0.66      0.63      0.64      1000\n",
            "           7       0.63      0.56      0.59      1000\n",
            "           8       0.62      0.70      0.66      1000\n",
            "           9       0.60      0.60      0.60      1000\n",
            "\n",
            "    accuracy                           0.55     10000\n",
            "   macro avg       0.55      0.55      0.55     10000\n",
            "weighted avg       0.55      0.55      0.55     10000\n",
            "\n"
          ]
        }
      ]
    },
    {
      "cell_type": "code",
      "source": [
        "confusion_matrix(y_test, predictions)"
      ],
      "metadata": {
        "colab": {
          "base_uri": "https://localhost:8080/"
        },
        "id": "LF-56d7JSTs6",
        "outputId": "12d1294f-e0a7-4607-8b9e-39becebd43f6"
      },
      "execution_count": 46,
      "outputs": [
        {
          "output_type": "execute_result",
          "data": {
            "text/plain": [
              "array([[593,  44,  60,  27,  18,  18,  16,   7, 157,  60],\n",
              "       [ 32, 716,  14,  20,  16,  12,  11,  16,  52, 111],\n",
              "       [ 84,  19, 379, 118, 102, 117,  75,  46,  39,  21],\n",
              "       [ 29,  30,  71, 346,  96, 241,  74,  46,  36,  31],\n",
              "       [ 34,  17, 103,  80, 478,  97,  64,  79,  27,  21],\n",
              "       [ 22,  21,  56, 163,  70, 494,  45,  82,  28,  19],\n",
              "       [ 13,  31,  51,  83,  63,  46, 628,  38,  14,  33],\n",
              "       [ 23,   9,  33,  73, 107, 113,  25, 565,  10,  42],\n",
              "       [ 97,  62,  20,  25,  10,  10,   9,   7, 703,  57],\n",
              "       [ 33, 201,  16,  25,  16,  17,   7,  17,  63, 605]])"
            ]
          },
          "metadata": {},
          "execution_count": 46
        }
      ]
    },
    {
      "cell_type": "code",
      "source": [
        "plt.imshow(x_test[48])"
      ],
      "metadata": {
        "colab": {
          "base_uri": "https://localhost:8080/",
          "height": 283
        },
        "id": "BGYVdKUVSarS",
        "outputId": "5d33e9cf-3585-4b96-de12-e84bf69b5e32"
      },
      "execution_count": 51,
      "outputs": [
        {
          "output_type": "execute_result",
          "data": {
            "text/plain": [
              "<matplotlib.image.AxesImage at 0x7fb660a518d0>"
            ]
          },
          "metadata": {},
          "execution_count": 51
        },
        {
          "output_type": "display_data",
          "data": {
            "image/png": "[encoded data removed]",
            "text/plain": [
              "<Figure size 432x288 with 1 Axes>"
            ]
          },
          "metadata": {
            "needs_background": "light"
          }
        }
      ]
    },
    {
      "cell_type": "code",
      "source": [
        "my_image = x_test[48]"
      ],
      "metadata": {
        "id": "HoS2fWeuSfc-"
      },
      "execution_count": 52,
      "outputs": []
    },
    {
      "cell_type": "code",
      "source": [
        "prediction = model.predict(my_image.reshape(1,32,32,3))\n",
        "print (prediction.argmax())"
      ],
      "metadata": {
        "colab": {
          "base_uri": "https://localhost:8080/"
        },
        "id": "RXhqmW9tSrVZ",
        "outputId": "91a10142-90dc-4c97-c352-b763f4af218e"
      },
      "execution_count": 61,
      "outputs": [
        {
          "output_type": "stream",
          "name": "stdout",
          "text": [
            "7\n"
          ]
        }
      ]
    },
    {
      "cell_type": "code",
      "source": [
        "LABEL_NAMES[y_test[48][0]]"
      ],
      "metadata": {
        "colab": {
          "base_uri": "https://localhost:8080/",
          "height": 35
        },
        "id": "v3bxWLcoSvgP",
        "outputId": "a44726fe-e4d8-4383-c9aa-e3bdaafb05c0"
      },
      "execution_count": 57,
      "outputs": [
        {
          "output_type": "execute_result",
          "data": {
            "application/vnd.google.colaboratory.intrinsic+json": {
              "type": "string"
            },
            "text/plain": [
              "'horse'"
            ]
          },
          "metadata": {},
          "execution_count": 57
        }
      ]
    }
  ]
}